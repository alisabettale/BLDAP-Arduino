{
 "cells": [
  {
   "cell_type": "code",
   "execution_count": null,
   "metadata": {},
   "outputs": [],
   "source": [
    "pip install plotly"
   ]
  },
  {
   "cell_type": "code",
   "execution_count": null,
   "metadata": {},
   "outputs": [],
   "source": [
    "import plotly.express as px\n",
    "import pandas\n",
    "# {'deviceid': 'boverhof', 'temperature': 112.0, 'humidity': 10.0, \n",
    "# 'timestamp': '2021-06-28 22:26:20.456'}\n",
    "df = pandas.read_json(\"http://haproxy.lbl.gov/arduino/temperature\")\n",
    "fig = px.line(df, x='timestamp', y=\"temperature\", line_group=\"deviceid\")\n",
    "fig.show()\n",
    "fig2 = px.line(df, x='timestamp', y=\"humidity\", line_group=\"deviceid\")\n",
    "fig2.show()"
   ]
  }
 ],
 "metadata": {
  "kernelspec": {
   "display_name": "Python 3 (ipykernel)",
   "language": "python",
   "name": "python3"
  },
  "language_info": {
   "codemirror_mode": {
    "name": "ipython",
    "version": 3
   },
   "file_extension": ".py",
   "mimetype": "text/x-python",
   "name": "python",
   "nbconvert_exporter": "python",
   "pygments_lexer": "ipython3",
   "version": "3.8.10"
  }
 },
 "nbformat": 4,
 "nbformat_minor": 4
}
